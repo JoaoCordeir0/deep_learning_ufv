{
  "nbformat": 4,
  "nbformat_minor": 0,
  "metadata": {
    "colab": {
      "provenance": []
    },
    "kernelspec": {
      "name": "python3",
      "display_name": "Python 3"
    },
    "language_info": {
      "name": "python"
    },
    "accelerator": "GPU"
  },
  "cells": [
    {
      "cell_type": "code",
      "source": [
        "import numpy as np\n",
        "import tensorflow as tf\n",
        "\n",
        "from matplotlib import pyplot as plt\n",
        "from sklearn.model_selection import KFold\n",
        "from tensorflow.keras.datasets import mnist, cifar10\n",
        "from tensorflow.keras.utils import to_categorical\n",
        "from tensorflow.keras.models import Sequential\n",
        "from tensorflow.keras.layers import Conv2D, MaxPooling2D, Dense, Flatten, Dropout, BatchNormalization\n",
        "from tensorflow.keras.optimizers import Adam"
      ],
      "metadata": {
        "id": "mepYIv5SXA6q"
      },
      "execution_count": 1,
      "outputs": []
    },
    {
      "cell_type": "markdown",
      "source": [
        "# Importando dados"
      ],
      "metadata": {
        "id": "D2WVw2iJ-iPf"
      }
    },
    {
      "cell_type": "markdown",
      "source": [
        "Aqui usaremos o dataset CIFAR10 (https://www.tensorflow.org/datasets/catalog/cifar10)."
      ],
      "metadata": {
        "id": "rxJzwLQB-leO"
      }
    },
    {
      "cell_type": "code",
      "source": [
        "# carregando dataset\n",
        "(trainX, trainY), (testX, testY) = cifar10.load_data()"
      ],
      "metadata": {
        "id": "0oTJGJS7_oQq"
      },
      "execution_count": 24,
      "outputs": []
    },
    {
      "cell_type": "markdown",
      "source": [
        "Faremos algumas adequações para que os dados sejam usados no modelo de CNN. Basicamente, colocamos os valores dos pixels em uma escala de 0 a 1, visto que os valores originais dos pixels das imagens correspondem a uma escala de 0 a 255. Também transformamos nossa variável alvo em uma codificação one-hos"
      ],
      "metadata": {
        "id": "OnIgJaRcX-oH"
      }
    },
    {
      "cell_type": "code",
      "source": [
        "plt.imshow(trainX[0], cmap='gray');"
      ],
      "metadata": {
        "colab": {
          "base_uri": "https://localhost:8080/",
          "height": 430
        },
        "id": "6sdeuEG4zNqp",
        "outputId": "59e6aa37-60f7-4ddd-c90c-def19e6fc12b"
      },
      "execution_count": 20,
      "outputs": [
        {
          "output_type": "display_data",
          "data": {
            "text/plain": [
              "<Figure size 640x480 with 1 Axes>"
            ],
            "image/png": "[encoded data removed]"
          },
          "metadata": {}
        }
      ]
    },
    {
      "cell_type": "code",
      "execution_count": 25,
      "metadata": {
        "id": "fIhMNN9u8063"
      },
      "outputs": [],
      "source": [
        "# fazendo um reshape no dataset para ter um único canal | Não é mais necessário fazer o reshape para o CIFAR10\n",
        "# trainX = trainX.reshape((trainX.shape[0], 28, 28, 1))\n",
        "# testX = testX.reshape((testX.shape[0], 28, 28, 1))\n",
        "\n",
        "# Convertendo valores dos pixels em float\n",
        "trainX = trainX.astype('float32')\n",
        "testX = testX.astype('float32')\n",
        "\n",
        "# normalização para escala [0-1]\n",
        "trainX = trainX / 255.0\n",
        "testX = testX / 255.0\n",
        "\n",
        "# remove a segunda dimensão\n",
        "trainY = trainY.squeeze()\n",
        "testY = testY.squeeze()\n",
        "\n",
        "# transformando a variável alvo (target) para uma codificação one hot\n",
        "trainY = to_categorical(trainY)\n",
        "testY = to_categorical(testY)"
      ]
    },
    {
      "cell_type": "markdown",
      "source": [
        "# Construindo o modelo"
      ],
      "metadata": {
        "id": "4yIlMtBSYkCQ"
      }
    },
    {
      "cell_type": "markdown",
      "source": [
        "O modelo usado será bem simples:\n",
        "* Uma única camada convolucional com 32 filtros de tamanho 3 x 3 e função de ativação ReLU\n",
        "* Camada MaxPooling para redução de dimensionalidade\n",
        "* Transformação do resultado em um vetor\n",
        "* Camada totalmente conectada com 100 neurônios e função de ativação ReLU\n",
        "* Camada de saída softmax para estimar a probabilidade da entrada da rede pertencer a cada uma das 10 classes (dígitos 0 a 9)\n",
        "\n",
        "\n",
        "Para treinamento do modelo, usaremos o algoritmo de otimização clássico do gradiente descendente estocástico (SDG), com a função objetiva como a entropia cruzada categórica. Nossa principal métrica de desempenho será a acurácia"
      ],
      "metadata": {
        "id": "L6qv-wkKZL3a"
      }
    },
    {
      "cell_type": "code",
      "source": [
        "# definindo modelo\n",
        "def define_model():\n",
        "    model = Sequential()\n",
        "\n",
        "    model.add(Conv2D(32, (3, 3), activation='relu', input_shape=(32, 32, 3)))\n",
        "    model.add(BatchNormalization())\n",
        "    model.add(MaxPooling2D((2, 2)))\n",
        "    model.add(Dropout(0.2))\n",
        "\n",
        "    model.add(Conv2D(64, (3, 3), activation='relu', input_shape=(32, 32, 3)))\n",
        "    model.add(BatchNormalization())\n",
        "    model.add(MaxPooling2D((2, 2)))\n",
        "    model.add(Dropout(0.2))\n",
        "\n",
        "    model.add(Flatten())\n",
        "\n",
        "    model.add(Dense(100, activation='relu'))\n",
        "    model.add(Dense(10, activation='softmax'))\n",
        "\n",
        "    # compilando modelo\n",
        "    opt = Adam(learning_rate=0.001)\n",
        "    model.compile(optimizer=opt, loss='categorical_crossentropy', metrics=['accuracy'])\n",
        "\n",
        "    return model"
      ],
      "metadata": {
        "id": "suXiZFlbAmmi"
      },
      "execution_count": 60,
      "outputs": []
    },
    {
      "cell_type": "markdown",
      "source": [
        "# Treinamento do modelo"
      ],
      "metadata": {
        "id": "S5fX2TpPaj77"
      }
    },
    {
      "cell_type": "markdown",
      "source": [
        "O treinamento será realizado usando o método da validação cruzada k-partições (k-fold) com k=5. Tal validação cruzada faz a divisão dos dados em 5 grupos de tamanho igual, sendo realizadas 5 treinamentos distintos. A cada treinamento, 4 grupos de dados são utilizados para treinar o modelo e o grupo remanescente é usado para teste do desempenho do modelo treinado.\n",
        "\n",
        "\n",
        "\n",
        "* O principal intuito da validação k-fold é acessar a incerteza do desempenho do modelo"
      ],
      "metadata": {
        "id": "GetQJUegap4f"
      }
    },
    {
      "cell_type": "code",
      "source": [
        "callback = tf.keras.callbacks.EarlyStopping(monitor='val_loss', patience=3, restore_best_weights=True)"
      ],
      "metadata": {
        "id": "WVsFpMjYkZ7f"
      },
      "execution_count": 52,
      "outputs": []
    },
    {
      "cell_type": "code",
      "source": [
        "scores = []\n",
        "histories = []\n",
        "\n",
        "# definindo a validação k-fold\n",
        "kfold = KFold(5, shuffle=True, random_state=1)\n",
        "\n",
        "# loop para as k-folds (cada fold usa subconjuntos de treino e teste diferentes)\n",
        "for train_ix, test_ix in kfold.split(trainX):\n",
        "\n",
        "    model = define_model()\n",
        "\n",
        "    # recorta dados de acordo com índices da k-fold\n",
        "    train_data, train_target, val_data, val_target = trainX[train_ix], trainY[train_ix], trainX[test_ix], trainY[test_ix]\n",
        "\n",
        "    # treinamento do modelo\n",
        "    history = model.fit(train_data, train_target,\n",
        "                        epochs=15, batch_size=32,\n",
        "                        validation_data=(val_data, val_target),\n",
        "                        verbose=1, callbacks=[callback])\n",
        "\n",
        "    # desempenho do modelo\n",
        "    _, acc = model.evaluate(val_data, val_target, verbose=0)\n",
        "    print('> %.3f' % (acc * 100.0))\n",
        "\n",
        "    # armazena resultados de cada modelo treinado dentro da k-fold\n",
        "    scores.append(acc)\n",
        "    histories.append(history)\n",
        "\n",
        "print('Acurácia: média=%.3f desvio=%.3f' % (np.mean(scores)*100, np.std(scores)*100))\n",
        "plt.boxplot(scores)\n",
        "plt.show()"
      ],
      "metadata": {
        "colab": {
          "base_uri": "https://localhost:8080/",
          "height": 1000
        },
        "id": "vNMJ1WpeUNgp",
        "outputId": "981fcd4e-4215-4295-aeb9-e06e3193fb5c"
      },
      "execution_count": 62,
      "outputs": [
        {
          "output_type": "stream",
          "name": "stderr",
          "text": [
            "/usr/local/lib/python3.11/dist-packages/keras/src/layers/convolutional/base_conv.py:107: UserWarning: Do not pass an `input_shape`/`input_dim` argument to a layer. When using Sequential models, prefer using an `Input(shape)` object as the first layer in the model instead.\n",
            "  super().__init__(activity_regularizer=activity_regularizer, **kwargs)\n"
          ]
        },
        {
          "output_type": "stream",
          "name": "stdout",
          "text": [
            "Epoch 1/15\n",
            "\u001b[1m1250/1250\u001b[0m \u001b[32m━━━━━━━━━━━━━━━━━━━━\u001b[0m\u001b[37m\u001b[0m \u001b[1m11s\u001b[0m 6ms/step - accuracy: 0.4087 - loss: 1.6981 - val_accuracy: 0.4973 - val_loss: 1.4543\n",
            "Epoch 2/15\n",
            "\u001b[1m1250/1250\u001b[0m \u001b[32m━━━━━━━━━━━━━━━━━━━━\u001b[0m\u001b[37m\u001b[0m \u001b[1m5s\u001b[0m 4ms/step - accuracy: 0.6013 - loss: 1.1241 - val_accuracy: 0.5893 - val_loss: 1.2095\n",
            "Epoch 3/15\n",
            "\u001b[1m1250/1250\u001b[0m \u001b[32m━━━━━━━━━━━━━━━━━━━━\u001b[0m\u001b[37m\u001b[0m \u001b[1m5s\u001b[0m 4ms/step - accuracy: 0.6623 - loss: 0.9520 - val_accuracy: 0.6498 - val_loss: 1.0263\n",
            "Epoch 4/15\n",
            "\u001b[1m1250/1250\u001b[0m \u001b[32m━━━━━━━━━━━━━━━━━━━━\u001b[0m\u001b[37m\u001b[0m \u001b[1m11s\u001b[0m 5ms/step - accuracy: 0.6968 - loss: 0.8655 - val_accuracy: 0.6631 - val_loss: 1.0015\n",
            "Epoch 5/15\n",
            "\u001b[1m1250/1250\u001b[0m \u001b[32m━━━━━━━━━━━━━━━━━━━━\u001b[0m\u001b[37m\u001b[0m \u001b[1m5s\u001b[0m 4ms/step - accuracy: 0.7300 - loss: 0.7724 - val_accuracy: 0.6935 - val_loss: 0.8998\n",
            "Epoch 6/15\n",
            "\u001b[1m1250/1250\u001b[0m \u001b[32m━━━━━━━━━━━━━━━━━━━━\u001b[0m\u001b[37m\u001b[0m \u001b[1m5s\u001b[0m 4ms/step - accuracy: 0.7523 - loss: 0.7117 - val_accuracy: 0.5226 - val_loss: 1.7443\n",
            "Epoch 7/15\n",
            "\u001b[1m1250/1250\u001b[0m \u001b[32m━━━━━━━━━━━━━━━━━━━━\u001b[0m\u001b[37m\u001b[0m \u001b[1m10s\u001b[0m 4ms/step - accuracy: 0.7713 - loss: 0.6636 - val_accuracy: 0.7005 - val_loss: 0.9107\n",
            "Epoch 8/15\n",
            "\u001b[1m1250/1250\u001b[0m \u001b[32m━━━━━━━━━━━━━━━━━━━━\u001b[0m\u001b[37m\u001b[0m \u001b[1m6s\u001b[0m 5ms/step - accuracy: 0.7883 - loss: 0.6026 - val_accuracy: 0.6379 - val_loss: 1.1768\n",
            "> 69.350\n",
            "Epoch 1/15\n",
            "\u001b[1m1250/1250\u001b[0m \u001b[32m━━━━━━━━━━━━━━━━━━━━\u001b[0m\u001b[37m\u001b[0m \u001b[1m11s\u001b[0m 5ms/step - accuracy: 0.4096 - loss: 1.7249 - val_accuracy: 0.5405 - val_loss: 1.3188\n",
            "Epoch 2/15\n",
            "\u001b[1m1250/1250\u001b[0m \u001b[32m━━━━━━━━━━━━━━━━━━━━\u001b[0m\u001b[37m\u001b[0m \u001b[1m5s\u001b[0m 4ms/step - accuracy: 0.5939 - loss: 1.1450 - val_accuracy: 0.6084 - val_loss: 1.1133\n",
            "Epoch 3/15\n",
            "\u001b[1m1250/1250\u001b[0m \u001b[32m━━━━━━━━━━━━━━━━━━━━\u001b[0m\u001b[37m\u001b[0m \u001b[1m5s\u001b[0m 4ms/step - accuracy: 0.6564 - loss: 0.9715 - val_accuracy: 0.6108 - val_loss: 1.1376\n",
            "Epoch 4/15\n",
            "\u001b[1m1250/1250\u001b[0m \u001b[32m━━━━━━━━━━━━━━━━━━━━\u001b[0m\u001b[37m\u001b[0m \u001b[1m5s\u001b[0m 4ms/step - accuracy: 0.6947 - loss: 0.8659 - val_accuracy: 0.6575 - val_loss: 1.0384\n",
            "Epoch 5/15\n",
            "\u001b[1m1250/1250\u001b[0m \u001b[32m━━━━━━━━━━━━━━━━━━━━\u001b[0m\u001b[37m\u001b[0m \u001b[1m5s\u001b[0m 4ms/step - accuracy: 0.7185 - loss: 0.8043 - val_accuracy: 0.6514 - val_loss: 1.0762\n",
            "Epoch 6/15\n",
            "\u001b[1m1250/1250\u001b[0m \u001b[32m━━━━━━━━━━━━━━━━━━━━\u001b[0m\u001b[37m\u001b[0m \u001b[1m10s\u001b[0m 4ms/step - accuracy: 0.7420 - loss: 0.7336 - val_accuracy: 0.6846 - val_loss: 0.9321\n",
            "Epoch 7/15\n",
            "\u001b[1m1250/1250\u001b[0m \u001b[32m━━━━━━━━━━━━━━━━━━━━\u001b[0m\u001b[37m\u001b[0m \u001b[1m5s\u001b[0m 4ms/step - accuracy: 0.7625 - loss: 0.6686 - val_accuracy: 0.7132 - val_loss: 0.8594\n",
            "Epoch 8/15\n",
            "\u001b[1m1250/1250\u001b[0m \u001b[32m━━━━━━━━━━━━━━━━━━━━\u001b[0m\u001b[37m\u001b[0m \u001b[1m10s\u001b[0m 4ms/step - accuracy: 0.7804 - loss: 0.6282 - val_accuracy: 0.6980 - val_loss: 0.9097\n",
            "Epoch 9/15\n",
            "\u001b[1m1250/1250\u001b[0m \u001b[32m━━━━━━━━━━━━━━━━━━━━\u001b[0m\u001b[37m\u001b[0m \u001b[1m5s\u001b[0m 4ms/step - accuracy: 0.7900 - loss: 0.5905 - val_accuracy: 0.6688 - val_loss: 1.0062\n",
            "Epoch 10/15\n",
            "\u001b[1m1250/1250\u001b[0m \u001b[32m━━━━━━━━━━━━━━━━━━━━\u001b[0m\u001b[37m\u001b[0m \u001b[1m5s\u001b[0m 4ms/step - accuracy: 0.8055 - loss: 0.5498 - val_accuracy: 0.6777 - val_loss: 1.0162\n",
            "> 71.320\n",
            "Epoch 1/15\n",
            "\u001b[1m1250/1250\u001b[0m \u001b[32m━━━━━━━━━━━━━━━━━━━━\u001b[0m\u001b[37m\u001b[0m \u001b[1m11s\u001b[0m 5ms/step - accuracy: 0.3957 - loss: 1.7350 - val_accuracy: 0.4744 - val_loss: 1.5234\n",
            "Epoch 2/15\n",
            "\u001b[1m1250/1250\u001b[0m \u001b[32m━━━━━━━━━━━━━━━━━━━━\u001b[0m\u001b[37m\u001b[0m \u001b[1m7s\u001b[0m 4ms/step - accuracy: 0.5878 - loss: 1.1605 - val_accuracy: 0.6128 - val_loss: 1.0991\n",
            "Epoch 3/15\n",
            "\u001b[1m1250/1250\u001b[0m \u001b[32m━━━━━━━━━━━━━━━━━━━━\u001b[0m\u001b[37m\u001b[0m \u001b[1m10s\u001b[0m 4ms/step - accuracy: 0.6581 - loss: 0.9706 - val_accuracy: 0.5753 - val_loss: 1.3366\n",
            "Epoch 4/15\n",
            "\u001b[1m1250/1250\u001b[0m \u001b[32m━━━━━━━━━━━━━━━━━━━━\u001b[0m\u001b[37m\u001b[0m \u001b[1m5s\u001b[0m 4ms/step - accuracy: 0.6884 - loss: 0.8697 - val_accuracy: 0.6516 - val_loss: 1.0138\n",
            "Epoch 5/15\n",
            "\u001b[1m1250/1250\u001b[0m \u001b[32m━━━━━━━━━━━━━━━━━━━━\u001b[0m\u001b[37m\u001b[0m \u001b[1m5s\u001b[0m 4ms/step - accuracy: 0.7232 - loss: 0.7826 - val_accuracy: 0.5684 - val_loss: 1.2403\n",
            "Epoch 6/15\n",
            "\u001b[1m1250/1250\u001b[0m \u001b[32m━━━━━━━━━━━━━━━━━━━━\u001b[0m\u001b[37m\u001b[0m \u001b[1m6s\u001b[0m 5ms/step - accuracy: 0.7508 - loss: 0.7091 - val_accuracy: 0.6911 - val_loss: 0.9311\n",
            "Epoch 7/15\n",
            "\u001b[1m1250/1250\u001b[0m \u001b[32m━━━━━━━━━━━━━━━━━━━━\u001b[0m\u001b[37m\u001b[0m \u001b[1m5s\u001b[0m 4ms/step - accuracy: 0.7648 - loss: 0.6671 - val_accuracy: 0.6140 - val_loss: 1.1684\n",
            "Epoch 8/15\n",
            "\u001b[1m1250/1250\u001b[0m \u001b[32m━━━━━━━━━━━━━━━━━━━━\u001b[0m\u001b[37m\u001b[0m \u001b[1m10s\u001b[0m 4ms/step - accuracy: 0.7778 - loss: 0.6122 - val_accuracy: 0.6493 - val_loss: 1.1902\n",
            "Epoch 9/15\n",
            "\u001b[1m1250/1250\u001b[0m \u001b[32m━━━━━━━━━━━━━━━━━━━━\u001b[0m\u001b[37m\u001b[0m \u001b[1m5s\u001b[0m 4ms/step - accuracy: 0.7977 - loss: 0.5656 - val_accuracy: 0.6265 - val_loss: 1.3258\n",
            "> 69.110\n",
            "Epoch 1/15\n",
            "\u001b[1m1250/1250\u001b[0m \u001b[32m━━━━━━━━━━━━━━━━━━━━\u001b[0m\u001b[37m\u001b[0m \u001b[1m10s\u001b[0m 5ms/step - accuracy: 0.4023 - loss: 1.7178 - val_accuracy: 0.5218 - val_loss: 1.3555\n",
            "Epoch 2/15\n",
            "\u001b[1m1250/1250\u001b[0m \u001b[32m━━━━━━━━━━━━━━━━━━━━\u001b[0m\u001b[37m\u001b[0m \u001b[1m6s\u001b[0m 4ms/step - accuracy: 0.5928 - loss: 1.1458 - val_accuracy: 0.5933 - val_loss: 1.2167\n",
            "Epoch 3/15\n",
            "\u001b[1m1250/1250\u001b[0m \u001b[32m━━━━━━━━━━━━━━━━━━━━\u001b[0m\u001b[37m\u001b[0m \u001b[1m10s\u001b[0m 4ms/step - accuracy: 0.6527 - loss: 0.9823 - val_accuracy: 0.6308 - val_loss: 1.0726\n",
            "Epoch 4/15\n",
            "\u001b[1m1250/1250\u001b[0m \u001b[32m━━━━━━━━━━━━━━━━━━━━\u001b[0m\u001b[37m\u001b[0m \u001b[1m5s\u001b[0m 4ms/step - accuracy: 0.6943 - loss: 0.8718 - val_accuracy: 0.6298 - val_loss: 1.0682\n",
            "Epoch 5/15\n",
            "\u001b[1m1250/1250\u001b[0m \u001b[32m━━━━━━━━━━━━━━━━━━━━\u001b[0m\u001b[37m\u001b[0m \u001b[1m5s\u001b[0m 4ms/step - accuracy: 0.7241 - loss: 0.7801 - val_accuracy: 0.6424 - val_loss: 1.0406\n",
            "Epoch 6/15\n",
            "\u001b[1m1250/1250\u001b[0m \u001b[32m━━━━━━━━━━━━━━━━━━━━\u001b[0m\u001b[37m\u001b[0m \u001b[1m11s\u001b[0m 5ms/step - accuracy: 0.7466 - loss: 0.7183 - val_accuracy: 0.6451 - val_loss: 1.0672\n",
            "Epoch 7/15\n",
            "\u001b[1m1250/1250\u001b[0m \u001b[32m━━━━━━━━━━━━━━━━━━━━\u001b[0m\u001b[37m\u001b[0m \u001b[1m5s\u001b[0m 4ms/step - accuracy: 0.7705 - loss: 0.6612 - val_accuracy: 0.6727 - val_loss: 0.9693\n",
            "Epoch 8/15\n",
            "\u001b[1m1250/1250\u001b[0m \u001b[32m━━━━━━━━━━━━━━━━━━━━\u001b[0m\u001b[37m\u001b[0m \u001b[1m5s\u001b[0m 4ms/step - accuracy: 0.7843 - loss: 0.6141 - val_accuracy: 0.6833 - val_loss: 1.0149\n",
            "Epoch 9/15\n",
            "\u001b[1m1250/1250\u001b[0m \u001b[32m━━━━━━━━━━━━━━━━━━━━\u001b[0m\u001b[37m\u001b[0m \u001b[1m6s\u001b[0m 5ms/step - accuracy: 0.7939 - loss: 0.5838 - val_accuracy: 0.6851 - val_loss: 1.0361\n",
            "Epoch 10/15\n",
            "\u001b[1m1250/1250\u001b[0m \u001b[32m━━━━━━━━━━━━━━━━━━━━\u001b[0m\u001b[37m\u001b[0m \u001b[1m5s\u001b[0m 4ms/step - accuracy: 0.8121 - loss: 0.5332 - val_accuracy: 0.7097 - val_loss: 0.9349\n",
            "Epoch 11/15\n",
            "\u001b[1m1250/1250\u001b[0m \u001b[32m━━━━━━━━━━━━━━━━━━━━\u001b[0m\u001b[37m\u001b[0m \u001b[1m6s\u001b[0m 5ms/step - accuracy: 0.8228 - loss: 0.4972 - val_accuracy: 0.6770 - val_loss: 1.1033\n",
            "Epoch 12/15\n",
            "\u001b[1m1250/1250\u001b[0m \u001b[32m━━━━━━━━━━━━━━━━━━━━\u001b[0m\u001b[37m\u001b[0m \u001b[1m6s\u001b[0m 4ms/step - accuracy: 0.8345 - loss: 0.4651 - val_accuracy: 0.6825 - val_loss: 1.1137\n",
            "Epoch 13/15\n",
            "\u001b[1m1250/1250\u001b[0m \u001b[32m━━━━━━━━━━━━━━━━━━━━\u001b[0m\u001b[37m\u001b[0m \u001b[1m10s\u001b[0m 4ms/step - accuracy: 0.8423 - loss: 0.4412 - val_accuracy: 0.7169 - val_loss: 0.9961\n",
            "> 70.970\n",
            "Epoch 1/15\n",
            "\u001b[1m1250/1250\u001b[0m \u001b[32m━━━━━━━━━━━━━━━━━━━━\u001b[0m\u001b[37m\u001b[0m \u001b[1m10s\u001b[0m 5ms/step - accuracy: 0.4034 - loss: 1.7333 - val_accuracy: 0.5425 - val_loss: 1.3334\n",
            "Epoch 2/15\n",
            "\u001b[1m1250/1250\u001b[0m \u001b[32m━━━━━━━━━━━━━━━━━━━━\u001b[0m\u001b[37m\u001b[0m \u001b[1m6s\u001b[0m 5ms/step - accuracy: 0.5987 - loss: 1.1282 - val_accuracy: 0.5334 - val_loss: 1.3725\n",
            "Epoch 3/15\n",
            "\u001b[1m1250/1250\u001b[0m \u001b[32m━━━━━━━━━━━━━━━━━━━━\u001b[0m\u001b[37m\u001b[0m \u001b[1m9s\u001b[0m 4ms/step - accuracy: 0.6584 - loss: 0.9767 - val_accuracy: 0.5918 - val_loss: 1.1845\n",
            "Epoch 4/15\n",
            "\u001b[1m1250/1250\u001b[0m \u001b[32m━━━━━━━━━━━━━━━━━━━━\u001b[0m\u001b[37m\u001b[0m \u001b[1m5s\u001b[0m 4ms/step - accuracy: 0.6926 - loss: 0.8729 - val_accuracy: 0.5133 - val_loss: 1.6081\n",
            "Epoch 5/15\n",
            "\u001b[1m1250/1250\u001b[0m \u001b[32m━━━━━━━━━━━━━━━━━━━━\u001b[0m\u001b[37m\u001b[0m \u001b[1m5s\u001b[0m 4ms/step - accuracy: 0.7234 - loss: 0.7872 - val_accuracy: 0.6549 - val_loss: 1.0087\n",
            "Epoch 6/15\n",
            "\u001b[1m1250/1250\u001b[0m \u001b[32m━━━━━━━━━━━━━━━━━━━━\u001b[0m\u001b[37m\u001b[0m \u001b[1m5s\u001b[0m 4ms/step - accuracy: 0.7494 - loss: 0.7206 - val_accuracy: 0.6610 - val_loss: 1.0268\n",
            "Epoch 7/15\n",
            "\u001b[1m1250/1250\u001b[0m \u001b[32m━━━━━━━━━━━━━━━━━━━━\u001b[0m\u001b[37m\u001b[0m \u001b[1m5s\u001b[0m 4ms/step - accuracy: 0.7681 - loss: 0.6648 - val_accuracy: 0.6633 - val_loss: 0.9719\n",
            "Epoch 8/15\n",
            "\u001b[1m1250/1250\u001b[0m \u001b[32m━━━━━━━━━━━━━━━━━━━━\u001b[0m\u001b[37m\u001b[0m \u001b[1m5s\u001b[0m 4ms/step - accuracy: 0.7830 - loss: 0.6098 - val_accuracy: 0.6638 - val_loss: 1.1585\n",
            "Epoch 9/15\n",
            "\u001b[1m1250/1250\u001b[0m \u001b[32m━━━━━━━━━━━━━━━━━━━━\u001b[0m\u001b[37m\u001b[0m \u001b[1m5s\u001b[0m 4ms/step - accuracy: 0.7956 - loss: 0.5692 - val_accuracy: 0.6519 - val_loss: 1.0851\n",
            "Epoch 10/15\n",
            "\u001b[1m1250/1250\u001b[0m \u001b[32m━━━━━━━━━━━━━━━━━━━━\u001b[0m\u001b[37m\u001b[0m \u001b[1m10s\u001b[0m 4ms/step - accuracy: 0.8137 - loss: 0.5298 - val_accuracy: 0.6717 - val_loss: 1.1332\n",
            "> 66.330\n",
            "Acurácia: média=69.416 desvio=1.770\n"
          ]
        },
        {
          "output_type": "display_data",
          "data": {
            "text/plain": [
              "<Figure size 640x480 with 1 Axes>"
            ],
            "image/png": "[encoded data removed]"
          },
          "metadata": {}
        }
      ]
    },
    {
      "cell_type": "markdown",
      "source": [
        "# Testando modelo no conjunto de teste"
      ],
      "metadata": {
        "id": "vQrS59lcrDGb"
      }
    },
    {
      "cell_type": "markdown",
      "source": [
        "Agora avaliaremos o desempenho do modelo em dados do conjunto de teste separado nas etapas iniciais deste exercício\n",
        "* Abaixo temos a primeira imagem do conjunto de teste"
      ],
      "metadata": {
        "id": "g04X5n32rHye"
      }
    },
    {
      "cell_type": "code",
      "source": [
        "plt.imshow(testX[10], cmap='gray');"
      ],
      "metadata": {
        "colab": {
          "base_uri": "https://localhost:8080/",
          "height": 430
        },
        "id": "-kQjP09ZfjEF",
        "outputId": "ed4902a5-fdfb-41f6-a452-8366096a35eb"
      },
      "execution_count": 64,
      "outputs": [
        {
          "output_type": "display_data",
          "data": {
            "text/plain": [
              "<Figure size 640x480 with 1 Axes>"
            ],
            "image/png": "[encoded data removed]"
          },
          "metadata": {}
        }
      ]
    },
    {
      "cell_type": "code",
      "source": [
        "pred = np.argmax(model.predict(np.expand_dims(testX[10], axis=0)))\n",
        "\n",
        "pred"
      ],
      "metadata": {
        "colab": {
          "base_uri": "https://localhost:8080/"
        },
        "id": "Q_MpGPWwfnGE",
        "outputId": "0481c850-ed03-42b0-90c7-3a22dcc3c6ee"
      },
      "execution_count": 63,
      "outputs": [
        {
          "output_type": "stream",
          "name": "stdout",
          "text": [
            "\u001b[1m1/1\u001b[0m \u001b[32m━━━━━━━━━━━━━━━━━━━━\u001b[0m\u001b[37m\u001b[0m \u001b[1m0s\u001b[0m 488ms/step\n"
          ]
        },
        {
          "output_type": "execute_result",
          "data": {
            "text/plain": [
              "np.int64(0)"
            ]
          },
          "metadata": {},
          "execution_count": 63
        }
      ]
    },
    {
      "cell_type": "code",
      "source": [
        "cifar10_labels = {\n",
        "    0: 'airplane',\n",
        "    1: 'automobile',\n",
        "    2: 'bird',\n",
        "    3: 'cat',\n",
        "    4: 'deer',\n",
        "    5: 'dog',\n",
        "    6: 'frog',\n",
        "    7: 'horse',\n",
        "    8: 'ship',\n",
        "    9: 'truck'\n",
        "}\n",
        "\n",
        "'Predição: {pred}'.format(pred=cifar10_labels[pred])"
      ],
      "metadata": {
        "colab": {
          "base_uri": "https://localhost:8080/",
          "height": 35
        },
        "id": "K0lHJnLxJgAx",
        "outputId": "a9ad643c-4c0f-45d9-9a80-4fa06c531bbc"
      },
      "execution_count": 65,
      "outputs": [
        {
          "output_type": "execute_result",
          "data": {
            "text/plain": [
              "'Predição: airplane'"
            ],
            "application/vnd.google.colaboratory.intrinsic+json": {
              "type": "string"
            }
          },
          "metadata": {},
          "execution_count": 65
        }
      ]
    },
    {
      "cell_type": "markdown",
      "source": [
        "# Questões avaliativas"
      ],
      "metadata": {
        "id": "3pSS_CWhKSs6"
      }
    },
    {
      "cell_type": "markdown",
      "source": [
        "1- Houve muita diferença no desempenho da rede treinada quando comparado ao exemplo?\n",
        "\n",
        "2- Experimente adicionar mais dois blocos de camadas Conv2D (64 filtros 3x3 - relu) + MaxPooling (2 x 2) antes da camada Flatten e compare os resultados.\n",
        "\n",
        "3- Seguindo o modelo modificado no item anterior, experimente adicionar um Dropout de 20% após cada camada MaxPooling. Comente os resultados obtidos."
      ],
      "metadata": {
        "id": "4AY9dKyyKKJG"
      }
    },
    {
      "cell_type": "markdown",
      "source": [
        "# Respostas"
      ],
      "metadata": {
        "id": "92G8MV7YKmj0"
      }
    },
    {
      "cell_type": "markdown",
      "source": [
        "1- Sim, houve uma diferença considerável no desempenho da rede. O modelo treinado com o CIFAR-10 teve uma acurácia significativamente menor do que o modelo treinado com MNIST. Isso é esperado, pois o CIFAR-10 é um dataset mais complexo, com imagens coloridas e diferentes contextos visuais, enquanto o MNIST possui imagens em tons de cinza de dígitos simples (0 a 9) e com fundo uniforme.\n",
        "\n",
        "Acurácia: média=59.900 desvio=1.787"
      ],
      "metadata": {
        "id": "zZ70yxAQKoqU"
      }
    },
    {
      "cell_type": "markdown",
      "source": [
        "2- Ao adicionar dois blocos extras de camadas Conv2D com 64 filtros e MaxPooling antes da camada Flatten, a acurácia do modelo melhorou de proximadamente 6%, passando de 60% para 66%. Isso aconteceu porque o aumento da profundidade da rede permitiu extrair padrões mais complexos e detalhados das imagens, melhorando a capacidade de generalização.\n",
        "\n",
        "Acurácia: média=66.080 desvio=0.942"
      ],
      "metadata": {
        "id": "aGxCQ1ZLK7Tr"
      }
    },
    {
      "cell_type": "markdown",
      "source": [
        "3- Após adicionar camadas de Dropout de 20% após cada camada MaxPooling, a acurácia média do modelo aumentou de 66% para 69.4%. Esse aumento indica que o Dropout ajudou a reduzir o overfitting, forçando o modelo a aprender representações mais robustas, ao invés de memorizar os dados de treino.\n",
        "No entanto, o desvio padrão da acurácia entre as execuções aumentou de 0,9 para 1.7, indicando que o modelo ficou ligeiramente mais sensível à aleatoriedade da inicialização dos pesos ou da ordem dos dados.\n",
        "De forma geral, o resultado mostra que o Dropout pode melhorar o desempenho médio, mas também traz um pouco mais de variabilidade, o que é normal e pode ser ajustado com mais épocas.\n",
        "\n",
        "10 Épocas: Acurácia: média=68.706 desvio=1.951\n",
        "\n",
        "15 Épocas: Acurácia: média=69.416 desvio=1.770"
      ],
      "metadata": {
        "id": "NmwNkw7zSFGM"
      }
    }
  ]
}