{
  "cells": [
    {
      "cell_type": "code",
      "execution_count": null,
      "metadata": {
        "id": "mepYIv5SXA6q"
      },
      "outputs": [],
      "source": [
        "import numpy as np\n",
        "import tensorflow as tf\n",
        "from tensorflow.keras.applications.vgg16 import VGG16\n",
        "from matplotlib import pyplot as plt\n",
        "from sklearn.model_selection import KFold\n",
        "from tensorflow.keras.datasets import cifar10\n",
        "from tensorflow.keras.utils import to_categorical\n",
        "from tensorflow.keras.models import Sequential\n",
        "from tensorflow.keras.layers import Dense, Flatten, Dropout\n",
        "from tensorflow.keras.optimizers import Adam\n",
        "from tensorflow.keras.preprocessing.image import ImageDataGenerator"
      ]
    },
    {
      "cell_type": "markdown",
      "metadata": {
        "id": "D2WVw2iJ-iPf"
      },
      "source": [
        "# Importando dados"
      ]
    },
    {
      "cell_type": "markdown",
      "metadata": {
        "id": "rxJzwLQB-leO"
      },
      "source": [
        "Aqui usaremos o dataset CIFAR10 (https://www.tensorflow.org/datasets/catalog/cifar10)."
      ]
    },
    {
      "cell_type": "code",
      "execution_count": null,
      "metadata": {
        "id": "0oTJGJS7_oQq"
      },
      "outputs": [],
      "source": [
        "# carregando dataset\n",
        "(trainX, trainY), (testX, testY) = cifar10.load_data()"
      ]
    },
    {
      "cell_type": "code",
      "execution_count": null,
      "metadata": {
        "id": "fIhMNN9u8063"
      },
      "outputs": [],
      "source": [
        "# Convertendo valores dos pixels em float\n",
        "trainX = trainX.astype('float32')\n",
        "testX = testX.astype('float32')\n",
        "\n",
        "# normalização para escala [0-1]\n",
        "trainX = trainX / 255.0\n",
        "testX = testX / 255.0\n",
        "\n",
        "# remove a segunda dimensão\n",
        "trainY = trainY.squeeze()\n",
        "testY = testY.squeeze()\n",
        "\n",
        "# transformando a variável alvo (target) para uma codificação one hot\n",
        "trainY = to_categorical(trainY, num_classes=10)\n",
        "testY = to_categorical(testY, num_classes=10)"
      ]
    },
    {
      "cell_type": "code",
      "execution_count": null,
      "metadata": {},
      "outputs": [],
      "source": [
        "# Data Augmentation\n",
        "datagen = ImageDataGenerator(\n",
        "    rotation_range=15,\n",
        "    width_shift_range=0.1,\n",
        "    height_shift_range=0.1,\n",
        "    horizontal_flip=True\n",
        ")\n",
        "datagen.fit(trainX)"
      ]
    },
    {
      "cell_type": "markdown",
      "metadata": {
        "id": "4yIlMtBSYkCQ"
      },
      "source": [
        "# Construindo o modelo usando Transfer Learning"
      ]
    },
    {
      "cell_type": "code",
      "execution_count": null,
      "metadata": {
        "id": "suXiZFlbAmmi"
      },
      "outputs": [],
      "source": [
        "pre_model = VGG16(weights='imagenet', include_top=False, input_shape=(32, 32, 3))\n",
        "\n",
        "model = Sequential()\n",
        "\n",
        "# Mantem apenas as ultimas 4 camadas do VGG16 ativas para o treinamento\n",
        "for index, layer in enumerate(pre_model.layers):\n",
        "    if index < len(pre_model.layers) - 4:\n",
        "        layer.trainable = False\n",
        "    model.add(layer)\n",
        "\n",
        "model.add(Flatten())\n",
        "model.add(Dense(512, activation='relu', name='hidden1'))\n",
        "model.add(Dropout(0.4))\n",
        "model.add(Dense(256, activation='relu', name='hidden2'))\n",
        "model.add(Dropout(0.4))\n",
        "model.add(Dense(10, activation='softmax', name='predictions'))\n",
        "\n",
        "opt = Adam(learning_rate=0.001)\n",
        "model.compile(optimizer=opt, loss='categorical_crossentropy', metrics=['accuracy'])"
      ]
    },
    {
      "cell_type": "code",
      "execution_count": null,
      "metadata": {},
      "outputs": [],
      "source": [
        "model.summary()"
      ]
    },
    {
      "cell_type": "markdown",
      "metadata": {
        "id": "S5fX2TpPaj77"
      },
      "source": [
        "# Treinamento do modelo"
      ]
    },
    {
      "cell_type": "code",
      "execution_count": null,
      "metadata": {},
      "outputs": [],
      "source": [
        "batch_size = 32\n",
        "epochs = 30\n",
        "\n",
        "history = model.fit(\n",
        "    datagen.flow(trainX, trainY, batch_size=batch_size),\n",
        "    validation_data=(testX, testY),\n",
        "    epochs=epochs\n",
        ")"
      ]
    },
    {
      "cell_type": "code",
      "execution_count": null,
      "metadata": {},
      "outputs": [],
      "source": [
        "loss, acc = model.evaluate(testX, testY)\n",
        "print(f\"Test Accuracy: {acc:.4f}\")"
      ]
    },
    {
      "cell_type": "code",
      "execution_count": null,
      "metadata": {},
      "outputs": [],
      "source": [
        "model.save(\"model_cifar10.h5\")"
      ]
    },
    {
      "cell_type": "markdown",
      "metadata": {
        "id": "vQrS59lcrDGb"
      },
      "source": [
        "# Testando modelo no conjunto de teste"
      ]
    },
    {
      "cell_type": "code",
      "execution_count": null,
      "metadata": {
        "colab": {
          "base_uri": "https://localhost:8080/",
          "height": 430
        },
        "id": "-kQjP09ZfjEF",
        "outputId": "ed4902a5-fdfb-41f6-a452-8366096a35eb"
      },
      "outputs": [],
      "source": [
        "plt.imshow(testX[10], cmap='gray');"
      ]
    },
    {
      "cell_type": "code",
      "execution_count": null,
      "metadata": {
        "colab": {
          "base_uri": "https://localhost:8080/"
        },
        "id": "Q_MpGPWwfnGE",
        "outputId": "0481c850-ed03-42b0-90c7-3a22dcc3c6ee"
      },
      "outputs": [],
      "source": [
        "pred = np.argmax(model.predict(np.expand_dims(testX[10], axis=0)))\n",
        "\n",
        "pred"
      ]
    },
    {
      "cell_type": "code",
      "execution_count": null,
      "metadata": {
        "colab": {
          "base_uri": "https://localhost:8080/",
          "height": 35
        },
        "id": "K0lHJnLxJgAx",
        "outputId": "a9ad643c-4c0f-45d9-9a80-4fa06c531bbc"
      },
      "outputs": [],
      "source": [
        "cifar10_labels = {\n",
        "    0: 'airplane',\n",
        "    1: 'automobile',\n",
        "    2: 'bird',\n",
        "    3: 'cat',\n",
        "    4: 'deer',\n",
        "    5: 'dog',\n",
        "    6: 'frog',\n",
        "    7: 'horse',\n",
        "    8: 'ship',\n",
        "    9: 'truck'\n",
        "}\n",
        "\n",
        "'Predição: {pred}'.format(pred=cifar10_labels[pred])"
      ]
    }
  ],
  "metadata": {
    "accelerator": "GPU",
    "colab": {
      "provenance": []
    },
    "kernelspec": {
      "display_name": "venv",
      "language": "python",
      "name": "python3"
    },
    "language_info": {
      "codemirror_mode": {
        "name": "ipython",
        "version": 3
      },
      "file_extension": ".py",
      "mimetype": "text/x-python",
      "name": "python",
      "nbconvert_exporter": "python",
      "pygments_lexer": "ipython3",
      "version": "3.12.3"
    }
  },
  "nbformat": 4,
  "nbformat_minor": 0
}
